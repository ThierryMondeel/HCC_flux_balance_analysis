{
 "cells": [
  {
   "cell_type": "code",
   "execution_count": 1,
   "metadata": {},
   "outputs": [],
   "source": [
    "import cobra"
   ]
  },
  {
   "cell_type": "code",
   "execution_count": 2,
   "metadata": {},
   "outputs": [],
   "source": [
    "model = cobra.io.load_matlab_model('../Models/Recon3DModel_301_patched.mat')"
   ]
  },
  {
   "cell_type": "code",
   "execution_count": 3,
   "metadata": {},
   "outputs": [],
   "source": [
    "M = model.copy()\n",
    "\n",
    "# fix reaction and metabolite IDs\n",
    "for rxn in M.reactions:\n",
    "    rxn.id = rxn.id.replace('[','_').replace(']','')\n",
    "\n",
    "M.repair()\n",
    "\n",
    "for m in M.metabolites:\n",
    "    m.id = m.id.replace('[','_').replace(']','')\n",
    "\n",
    "M.repair()\n",
    "\n",
    "# set objective to full biomass\n",
    "M.reactions.biomass_maintenance.objective_coefficient = 0\n",
    "M.reactions.biomass_reaction.objective_coefficient = 1\n",
    "\n",
    "# set compartment properties\n",
    "for m in M.metabolites:\n",
    "    m.compartment = m.id.split('_')[-1]"
   ]
  },
  {
   "cell_type": "code",
   "execution_count": 4,
   "metadata": {},
   "outputs": [],
   "source": [
    "cobra.io.save_json_model(M,'../Models/Recon3DModel_301_patched.json')"
   ]
  },
  {
   "cell_type": "code",
   "execution_count": null,
   "metadata": {},
   "outputs": [],
   "source": []
  }
 ],
 "metadata": {
  "kernelspec": {
   "display_name": "Python 3",
   "language": "python",
   "name": "python3"
  },
  "language_info": {
   "codemirror_mode": {
    "name": "ipython",
    "version": 3
   },
   "file_extension": ".py",
   "mimetype": "text/x-python",
   "name": "python",
   "nbconvert_exporter": "python",
   "pygments_lexer": "ipython3",
   "version": "3.6.1"
  },
  "toc": {
   "nav_menu": {},
   "number_sections": true,
   "sideBar": true,
   "skip_h1_title": false,
   "toc_cell": false,
   "toc_position": {},
   "toc_section_display": "block",
   "toc_window_display": false
  }
 },
 "nbformat": 4,
 "nbformat_minor": 2
}
